{
  "cells": [
    {
      "cell_type": "markdown",
      "metadata": {
        "id": "view-in-github",
        "colab_type": "text"
      },
      "source": [
        "<a href=\"https://colab.research.google.com/github/PatchavaKoushikChowdary/Birble-ai-/blob/main/tensor.ipynb\" target=\"_parent\"><img src=\"https://colab.research.google.com/assets/colab-badge.svg\" alt=\"Open In Colab\"/></a>"
      ]
    },
    {
      "cell_type": "code",
      "source": [
        "import torch\n",
        "import pandas as pd\n",
        "import numpy as np\n",
        "import matplotlib.pyplot as plt"
      ],
      "metadata": {
        "id": "P-SgS6GCWqht"
      },
      "execution_count": 2,
      "outputs": []
    },
    {
      "cell_type": "code",
      "source": [
        "torch.arange(1,10)"
      ],
      "metadata": {
        "colab": {
          "base_uri": "https://localhost:8080/"
        },
        "id": "zA_eiai0X1vR",
        "outputId": "3a90ce7d-6902-47ea-9d13-0699fad643fd"
      },
      "execution_count": 4,
      "outputs": [
        {
          "output_type": "execute_result",
          "data": {
            "text/plain": [
              "tensor([1, 2, 3, 4, 5, 6, 7, 8, 9])"
            ]
          },
          "metadata": {},
          "execution_count": 4
        }
      ]
    },
    {
      "cell_type": "code",
      "source": [
        "one_to_ten = torch.arange(start =0, end=11, step=1)\n",
        "print(one_to_ten)"
      ],
      "metadata": {
        "colab": {
          "base_uri": "https://localhost:8080/"
        },
        "id": "eZ0dIH0jYRV7",
        "outputId": "7842bbd7-3e76-4210-c448-a3af3adbc787"
      },
      "execution_count": 7,
      "outputs": [
        {
          "output_type": "stream",
          "name": "stdout",
          "text": [
            "tensor([ 0,  1,  2,  3,  4,  5,  6,  7,  8,  9, 10])\n"
          ]
        }
      ]
    },
    {
      "cell_type": "code",
      "source": [
        "ten_zeros = torch.zeros_like(input =one_to_ten)\n",
        "print(ten_zeros)"
      ],
      "metadata": {
        "colab": {
          "base_uri": "https://localhost:8080/"
        },
        "id": "HiZZ5Mh4YvQU",
        "outputId": "eb388009-f8e8-41e2-d25f-9dc7bf7a200b"
      },
      "execution_count": 8,
      "outputs": [
        {
          "output_type": "stream",
          "name": "stdout",
          "text": [
            "tensor([0, 0, 0, 0, 0, 0, 0, 0, 0, 0, 0])\n"
          ]
        }
      ]
    },
    {
      "cell_type": "markdown",
      "source": [
        "Tensor datatypes"
      ],
      "metadata": {
        "id": "VRAq5IUkZBpB"
      }
    },
    {
      "cell_type": "code",
      "source": [
        " float_32_tensor = torch.tensor([3.0 , 6.0 , 9.0], dtype=None, device=None,requires_grad=False)\n",
        " print(float_32_tensor)"
      ],
      "metadata": {
        "colab": {
          "base_uri": "https://localhost:8080/"
        },
        "id": "Sb2306l7Y9x5",
        "outputId": "2aca7577-e1d8-4ca1-e845-251e4e0ee157"
      },
      "execution_count": 9,
      "outputs": [
        {
          "output_type": "stream",
          "name": "stdout",
          "text": [
            "tensor([3., 6., 9.])\n"
          ]
        }
      ]
    },
    {
      "cell_type": "code",
      "source": [
        "float_16_tensor = float_32_tensor.type(torch.float16)\n",
        "print(float_16_tensor)"
      ],
      "metadata": {
        "colab": {
          "base_uri": "https://localhost:8080/"
        },
        "id": "5JUdDWukZuWw",
        "outputId": "de83442a-1f43-4250-e1a3-e4080e55ac2d"
      },
      "execution_count": 11,
      "outputs": [
        {
          "output_type": "stream",
          "name": "stdout",
          "text": [
            "tensor([3., 6., 9.], dtype=torch.float16)\n"
          ]
        }
      ]
    },
    {
      "cell_type": "code",
      "source": [
        "float_16_tensor * float_32_tensor"
      ],
      "metadata": {
        "colab": {
          "base_uri": "https://localhost:8080/"
        },
        "id": "DoNfdT6PZ-Hr",
        "outputId": "36f7be23-cee0-4260-e650-0478f28e73cc"
      },
      "execution_count": 12,
      "outputs": [
        {
          "output_type": "execute_result",
          "data": {
            "text/plain": [
              "tensor([ 9., 36., 81.])"
            ]
          },
          "metadata": {},
          "execution_count": 12
        }
      ]
    },
    {
      "cell_type": "code",
      "source": [
        "int_32_tensor =torch.tensor([3 , 6 , 9],dtype=torch.int64)\n",
        "print(int_32_tensor)"
      ],
      "metadata": {
        "colab": {
          "base_uri": "https://localhost:8080/"
        },
        "id": "HRkNCva4aEX7",
        "outputId": "8d00d418-6770-409e-9f60-9c73364a6ebc"
      },
      "execution_count": 13,
      "outputs": [
        {
          "output_type": "stream",
          "name": "stdout",
          "text": [
            "tensor([3, 6, 9])\n"
          ]
        }
      ]
    },
    {
      "cell_type": "code",
      "source": [
        "some_tensor =torch.rand(3,4)\n",
        "print(some_tensor)"
      ],
      "metadata": {
        "colab": {
          "base_uri": "https://localhost:8080/"
        },
        "id": "8sMEtpaHaNTF",
        "outputId": "63af6206-bfcd-4e95-c2e1-ba8ab189b7a3"
      },
      "execution_count": 16,
      "outputs": [
        {
          "output_type": "stream",
          "name": "stdout",
          "text": [
            "tensor([[0.8445, 0.1480, 0.4301, 0.3070],\n",
            "        [0.7988, 0.4524, 0.9510, 0.4416],\n",
            "        [0.9240, 0.3047, 0.7610, 0.0766]])\n"
          ]
        }
      ]
    },
    {
      "cell_type": "code",
      "source": [
        "print(some_tensor)\n",
        "print(f\"Datatype of tensor: {some_tensor.dtype}\")\n",
        "print(f\"Shape of tensor:{some_tensor.shape}\")\n",
        "print(f\"Device tensor is on:{some_tensor.device}\")"
      ],
      "metadata": {
        "colab": {
          "base_uri": "https://localhost:8080/"
        },
        "id": "mG3Z-5WYadGR",
        "outputId": "c202dc30-5985-486c-a5f0-d180d1553973"
      },
      "execution_count": 17,
      "outputs": [
        {
          "output_type": "stream",
          "name": "stdout",
          "text": [
            "tensor([[0.8445, 0.1480, 0.4301, 0.3070],\n",
            "        [0.7988, 0.4524, 0.9510, 0.4416],\n",
            "        [0.9240, 0.3047, 0.7610, 0.0766]])\n",
            "Datatype of tensor: torch.float32\n",
            "Shape of tensor:torch.Size([3, 4])\n",
            "Device tensor is on:cpu\n"
          ]
        }
      ]
    },
    {
      "cell_type": "markdown",
      "source": [
        "manipulating tensors"
      ],
      "metadata": {
        "id": "YsbN60jdatyt"
      }
    },
    {
      "cell_type": "code",
      "source": [
        "tensor =torch.tensor([1 , 2 , 3])\n",
        "print(tensor + 10)\n",
        "print(tensor - 10)"
      ],
      "metadata": {
        "colab": {
          "base_uri": "https://localhost:8080/"
        },
        "id": "8EPHlhHtarTX",
        "outputId": "6fe995cb-580a-42b1-ca17-0a3d1626dfe5"
      },
      "execution_count": 22,
      "outputs": [
        {
          "output_type": "stream",
          "name": "stdout",
          "text": [
            "tensor([11, 12, 13])\n",
            "tensor([-9, -8, -7])\n"
          ]
        }
      ]
    },
    {
      "cell_type": "code",
      "source": [
        "tensor =torch.tensor([1 , 2 , 3])\n",
        "print(tensor * 10)\n",
        "print(tensor / 10)"
      ],
      "metadata": {
        "colab": {
          "base_uri": "https://localhost:8080/"
        },
        "id": "wuvb0fTka43c",
        "outputId": "b46e6ad0-90dd-4719-b71d-5d43dc489167"
      },
      "execution_count": 23,
      "outputs": [
        {
          "output_type": "stream",
          "name": "stdout",
          "text": [
            "tensor([10, 20, 30])\n",
            "tensor([0.1000, 0.2000, 0.3000])\n"
          ]
        }
      ]
    },
    {
      "cell_type": "markdown",
      "source": [
        "matrix multiplication"
      ],
      "metadata": {
        "id": "Mx-Rjk04bZEv"
      }
    },
    {
      "cell_type": "code",
      "source": [
        "torch.matmul(torch.rand(2,3),torch.rand(3,2))"
      ],
      "metadata": {
        "colab": {
          "base_uri": "https://localhost:8080/"
        },
        "id": "ZrkZNrTJa_8e",
        "outputId": "1f02e22a-df94-4dcf-f38c-647cefc3fdfb"
      },
      "execution_count": 24,
      "outputs": [
        {
          "output_type": "execute_result",
          "data": {
            "text/plain": [
              "tensor([[0.7558, 1.1346],\n",
              "        [1.2516, 1.4503]])"
            ]
          },
          "metadata": {},
          "execution_count": 24
        }
      ]
    },
    {
      "cell_type": "code",
      "source": [
        "torch.matmul(torch.rand(3,2),torch.rand(2,3))"
      ],
      "metadata": {
        "colab": {
          "base_uri": "https://localhost:8080/"
        },
        "id": "fgdoXx6mbhVu",
        "outputId": "f37d3e94-fabe-4cad-c993-1032e680b57f"
      },
      "execution_count": 25,
      "outputs": [
        {
          "output_type": "execute_result",
          "data": {
            "text/plain": [
              "tensor([[0.1894, 0.7380, 0.8721],\n",
              "        [0.1014, 0.4931, 0.7104],\n",
              "        [0.0416, 0.1595, 0.1852]])"
            ]
          },
          "metadata": {},
          "execution_count": 25
        }
      ]
    },
    {
      "cell_type": "code",
      "source": [
        "torch.matmul(torch.rand(10,10),torch.rand(10,10))"
      ],
      "metadata": {
        "colab": {
          "base_uri": "https://localhost:8080/"
        },
        "id": "xtzw0P-XbnYp",
        "outputId": "3a7ead08-a41e-4c7d-fb62-639121cdf3b3"
      },
      "execution_count": 26,
      "outputs": [
        {
          "output_type": "execute_result",
          "data": {
            "text/plain": [
              "tensor([[3.1183, 2.3817, 3.6040, 2.8289, 3.3894, 2.5036, 3.6308, 1.7593, 3.0509,\n",
              "         3.2005],\n",
              "        [3.3346, 2.9979, 3.9738, 3.2560, 3.7345, 2.9034, 3.9532, 1.9522, 3.5407,\n",
              "         3.4947],\n",
              "        [2.4149, 2.5276, 3.2318, 2.5786, 3.2515, 2.3061, 2.6711, 1.4767, 2.9349,\n",
              "         2.5020],\n",
              "        [3.1825, 2.1293, 3.2578, 2.8664, 3.3445, 2.2545, 3.3044, 2.0199, 2.5453,\n",
              "         3.0196],\n",
              "        [2.4611, 2.2501, 3.0310, 2.1914, 2.9581, 2.2736, 2.7789, 1.4317, 2.7203,\n",
              "         2.6557],\n",
              "        [3.1898, 2.5000, 3.5263, 2.7476, 3.8557, 2.2202, 3.1612, 2.1523, 2.4420,\n",
              "         2.9636],\n",
              "        [2.4720, 2.1127, 2.7943, 2.6601, 2.9129, 2.1570, 2.9757, 1.5057, 2.7683,\n",
              "         2.5886],\n",
              "        [2.9086, 2.1871, 2.9779, 2.0696, 2.7504, 1.6413, 3.2033, 1.6036, 2.2114,\n",
              "         2.8188],\n",
              "        [3.2466, 2.6006, 3.5926, 2.3632, 3.3474, 2.2932, 3.0808, 1.8280, 3.0559,\n",
              "         3.2924],\n",
              "        [3.3715, 2.8721, 3.4420, 2.5493, 3.0446, 2.3687, 3.1920, 1.8648, 3.0592,\n",
              "         3.3804]])"
            ]
          },
          "metadata": {},
          "execution_count": 26
        }
      ]
    },
    {
      "cell_type": "code",
      "source": [
        "print(tensor, \"*\" ,tensor)"
      ],
      "metadata": {
        "colab": {
          "base_uri": "https://localhost:8080/"
        },
        "id": "Erw6Nb64buBI",
        "outputId": "b91fec23-fb0b-4e03-da0b-1d3d819ab544"
      },
      "execution_count": 27,
      "outputs": [
        {
          "output_type": "stream",
          "name": "stdout",
          "text": [
            "tensor([1, 2, 3]) * tensor([1, 2, 3])\n"
          ]
        }
      ]
    },
    {
      "cell_type": "code",
      "source": [
        "print(tensor, \"*\" , tensor)\n",
        "print(f\"Equals:({tensor * tensor}\")"
      ],
      "metadata": {
        "colab": {
          "base_uri": "https://localhost:8080/"
        },
        "id": "BWikqN7Eb5N9",
        "outputId": "3bc2b549-f59b-46e1-af73-3ea16e9434de"
      },
      "execution_count": 29,
      "outputs": [
        {
          "output_type": "stream",
          "name": "stdout",
          "text": [
            "tensor([1, 2, 3]) * tensor([1, 2, 3])\n",
            "Equals:(tensor([1, 4, 9])\n"
          ]
        }
      ]
    },
    {
      "cell_type": "code",
      "source": [
        "torch.matmul(tensor, tensor)"
      ],
      "metadata": {
        "colab": {
          "base_uri": "https://localhost:8080/"
        },
        "id": "m-dEIk2-b-Rq",
        "outputId": "56eebc40-ae9c-4f68-ddda-619cab9cc30d"
      },
      "execution_count": 30,
      "outputs": [
        {
          "output_type": "execute_result",
          "data": {
            "text/plain": [
              "tensor(14)"
            ]
          },
          "metadata": {},
          "execution_count": 30
        }
      ]
    },
    {
      "cell_type": "code",
      "source": [
        "%%time\n",
        "torch.matmul(tensor, tensor)"
      ],
      "metadata": {
        "colab": {
          "base_uri": "https://localhost:8080/"
        },
        "id": "otJjNjV7cCPL",
        "outputId": "c11f428f-ecfb-4574-d01d-469a009c1332"
      },
      "execution_count": 37,
      "outputs": [
        {
          "output_type": "stream",
          "name": "stdout",
          "text": [
            "CPU times: user 125 µs, sys: 0 ns, total: 125 µs\n",
            "Wall time: 130 µs\n"
          ]
        },
        {
          "output_type": "execute_result",
          "data": {
            "text/plain": [
              "tensor(14)"
            ]
          },
          "metadata": {},
          "execution_count": 37
        }
      ]
    },
    {
      "cell_type": "code",
      "source": [
        "n=torch.arange(0,100,10)\n",
        "n"
      ],
      "metadata": {
        "colab": {
          "base_uri": "https://localhost:8080/"
        },
        "id": "iLtroZtddHya",
        "outputId": "e1ca23a3-408f-4606-88c9-af5fb967aa52"
      },
      "execution_count": 40,
      "outputs": [
        {
          "output_type": "execute_result",
          "data": {
            "text/plain": [
              "tensor([ 0, 10, 20, 30, 40, 50, 60, 70, 80, 90])"
            ]
          },
          "metadata": {},
          "execution_count": 40
        }
      ]
    },
    {
      "cell_type": "code",
      "source": [
        "torch.max(n)\n"
      ],
      "metadata": {
        "colab": {
          "base_uri": "https://localhost:8080/"
        },
        "id": "Y_UmK8Brc9MX",
        "outputId": "59a908bd-94f9-4b8d-f018-cc18ce20a724"
      },
      "execution_count": 44,
      "outputs": [
        {
          "output_type": "execute_result",
          "data": {
            "text/plain": [
              "tensor(90)"
            ]
          },
          "metadata": {},
          "execution_count": 44
        }
      ]
    },
    {
      "cell_type": "code",
      "source": [
        "torch.min(n)"
      ],
      "metadata": {
        "colab": {
          "base_uri": "https://localhost:8080/"
        },
        "id": "ddte3wJldoSY",
        "outputId": "525737ad-38a5-475c-9de5-5a43bcbc5a73"
      },
      "execution_count": 45,
      "outputs": [
        {
          "output_type": "execute_result",
          "data": {
            "text/plain": [
              "tensor(0)"
            ]
          },
          "metadata": {},
          "execution_count": 45
        }
      ]
    },
    {
      "cell_type": "code",
      "source": [
        "torch.sum(n)"
      ],
      "metadata": {
        "colab": {
          "base_uri": "https://localhost:8080/"
        },
        "id": "ts0fml2fdqVG",
        "outputId": "420794a5-bd52-498d-8c2f-7caf7d72670e"
      },
      "execution_count": 46,
      "outputs": [
        {
          "output_type": "execute_result",
          "data": {
            "text/plain": [
              "tensor(450)"
            ]
          },
          "metadata": {},
          "execution_count": 46
        }
      ]
    }
  ],
  "metadata": {
    "colab": {
      "name": "Welcome to Colaboratory",
      "provenance": [],
      "include_colab_link": true
    },
    "kernelspec": {
      "display_name": "Python 3",
      "name": "python3"
    }
  },
  "nbformat": 4,
  "nbformat_minor": 0
}